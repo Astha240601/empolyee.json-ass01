{
 "cells": [
  {
   "cell_type": "code",
   "execution_count": 1,
   "id": "1559572b",
   "metadata": {},
   "outputs": [
    {
     "name": "stdout",
     "output_type": "stream",
     "text": [
      "[{'name': 'astha', 'dob': '24.06.01', 'height': '5.4', 'city': 'patna', 'state': 'bihar'}, {'name': 'muskan', 'dob': '21.08.01', 'height': '5.10', 'city': 'patna', 'state': 'bihar'}, {'name': 'aditya', 'dob': '24.06.01', 'height': '', 'city': 'patna', 'state': 'bihar'}, {'name': 'khushi', 'dob': '07.06.01', 'height': '5.4', 'city': 'patna', 'state': 'bihar'}, {'name': 'ayush', 'dob': '14.06.01', 'height': '5.4', 'city': 'patna', 'state': 'bihar'}]\n"
     ]
    }
   ],
   "source": [
    "import json\n",
    "\n",
    "data_JSON =  \"\"\"\n",
    "{\n",
    "   \"employee.json\": [\n",
    "\n",
    "      {\n",
    "         \"name\": \"astha\",\n",
    "         \"dob\": \"24.06.01\",\n",
    "         \"height\": \"5.4\",\n",
    "         \"city\": \"patna\",\n",
    "         \"state\": \"bihar\"\n",
    "      },\n",
    "\n",
    "      {\n",
    "         \"name\": \"muskan\",\n",
    "         \"dob\": \"21.08.01\",\n",
    "         \"height\": \"5.10\",\n",
    "         \"city\": \"patna\",\n",
    "         \"state\": \"bihar\"\n",
    "      },\n",
    "      {\n",
    "         \"name\": \"aditya\",\n",
    "         \"dob\": \"24.06.01\",\n",
    "         \"height\": \"\",\n",
    "         \"city\": \"patna\",\n",
    "         \"state\": \"bihar\"\n",
    "       },\n",
    "       {\n",
    "         \"name\": \"khushi\",\n",
    "         \"dob\": \"07.06.01\",\n",
    "         \"height\": \"5.4\",\n",
    "         \"city\": \"patna\",\n",
    "         \"state\": \"bihar\"\n",
    "       },\n",
    "       {\n",
    "         \"name\": \"ayush\",\n",
    "         \"dob\": \"14.06.01\",\n",
    "         \"height\": \"5.4\",\n",
    "         \"city\": \"patna\",\n",
    "         \"state\": \"bihar\"\n",
    "       }\n",
    "   ]\n",
    "}\n",
    "\"\"\"\n",
    "\n",
    "data_dict = json.loads(data_JSON)\n",
    "print(data_dict[\"employee.json\"])"
   ]
  },
  {
   "cell_type": "code",
   "execution_count": null,
   "id": "b9429afa",
   "metadata": {},
   "outputs": [],
   "source": []
  },
  {
   "cell_type": "code",
   "execution_count": null,
   "id": "852cd7ba",
   "metadata": {},
   "outputs": [],
   "source": []
  }
 ],
 "metadata": {
  "kernelspec": {
   "display_name": "Python 3 (ipykernel)",
   "language": "python",
   "name": "python3"
  },
  "language_info": {
   "codemirror_mode": {
    "name": "ipython",
    "version": 3
   },
   "file_extension": ".py",
   "mimetype": "text/x-python",
   "name": "python",
   "nbconvert_exporter": "python",
   "pygments_lexer": "ipython3",
   "version": "3.9.12"
  }
 },
 "nbformat": 4,
 "nbformat_minor": 5
}
